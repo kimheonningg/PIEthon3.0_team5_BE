{
 "cells": [
  {
   "cell_type": "code",
   "execution_count": 3,
   "metadata": {},
   "outputs": [
    {
     "name": "stdout",
     "output_type": "stream",
     "text": [
      "Fusing layers... \n",
      "IDetect.fuse\n"
     ]
    }
   ],
   "source": [
    "# import torch\n",
    "# import pickle\n",
    "# from models.experimental import attempt_load  # YOLOv7 모델 로더\n",
    "\n",
    "# # 1. 모델 로드 (YOLOv7)\n",
    "# weights_path = 'runs/train/rcs-yolo/weights/best.pt'\n",
    "# device = torch.device('cuda' if torch.cuda.is_available() else 'cpu')\n",
    "# model = attempt_load(weights_path, map_location=device)\n",
    "# model.eval()\n",
    "\n",
    "# # 2. Pickle로 저장\n",
    "# with open('./brainMRI_model_weights.pkl', 'wb') as f:\n",
    "#     pickle.dump(model, f)"
   ]
  },
  {
   "cell_type": "code",
   "execution_count": 1,
   "metadata": {},
   "outputs": [],
   "source": []
  },
  {
   "cell_type": "markdown",
   "metadata": {},
   "source": [
    "# Brain MRI"
   ]
  },
  {
   "cell_type": "code",
   "execution_count": 9,
   "metadata": {},
   "outputs": [
    {
     "name": "stdout",
     "output_type": "stream",
     "text": [
      "0 0.8493150472640991 [4, 9, 24, 34]\n"
     ]
    }
   ],
   "source": [
    "import torch\n",
    "import pickle\n",
    "import cv2\n",
    "import numpy as np\n",
    "\n",
    "from utils.general import non_max_suppression, scale_coords\n",
    "from utils.datasets import letterbox\n",
    "\n",
    "# 1. 모델 불러오기\n",
    "with open('./brainMRI_model_weights.pkl', 'rb') as f:\n",
    "    model = pickle.load(f)\n",
    "model.eval()\n",
    "device = torch.device('cuda' if torch.cuda.is_available() else 'cpu')\n",
    "model = model.to(device)\n",
    "\n",
    "# 2. 이미지 로드 및 전처리\n",
    "img_path = './y500.jpg'\n",
    "img0 = cv2.imread(img_path)  # BGR\n",
    "img = letterbox(img0, new_shape=640)[0]\n",
    "img = img[:, :, ::-1].transpose(2, 0, 1)  # BGR->RGB->CHW\n",
    "img = np.ascontiguousarray(img)\n",
    "img = torch.from_numpy(img).float().to(device) / 255.0\n",
    "img = img.unsqueeze(0)  # batch dimension\n",
    "\n",
    "# 3. Inference\n",
    "with torch.no_grad():\n",
    "    pred = model(img, augment=False)[0]\n",
    "    pred = non_max_suppression(pred, conf_thres=0.25, iou_thres=0.45)\n",
    "\n",
    "# 4. 결과 출력\n",
    "for det in pred:\n",
    "    if len(det):\n",
    "        det[:, :4] = scale_coords(img.shape[2:], det[:, :4], img0.shape).round()\n",
    "        for *xyxy, conf, cls in det:\n",
    "            print(int(cls), \"confidence score: \", float(conf.cpu()), \"coordinate:\", [int(b.cpu()) for b in xyxy])"
   ]
  },
  {
   "cell_type": "code",
   "execution_count": null,
   "metadata": {},
   "outputs": [],
   "source": []
  }
 ],
 "metadata": {
  "kernelspec": {
   "display_name": "biomedparse",
   "language": "python",
   "name": "python3"
  },
  "language_info": {
   "codemirror_mode": {
    "name": "ipython",
    "version": 3
   },
   "file_extension": ".py",
   "mimetype": "text/x-python",
   "name": "python",
   "nbconvert_exporter": "python",
   "pygments_lexer": "ipython3",
   "version": "3.9.19"
  },
  "orig_nbformat": 4
 },
 "nbformat": 4,
 "nbformat_minor": 2
}
