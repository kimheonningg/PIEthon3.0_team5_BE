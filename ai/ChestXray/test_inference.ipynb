{
 "cells": [
  {
   "cell_type": "code",
   "execution_count": 2,
   "metadata": {},
   "outputs": [
    {
     "name": "stdout",
     "output_type": "stream",
     "text": [
      "Fusing layers... \n",
      "RepConv.fuse_repvgg_block\n",
      "RepConv.fuse_repvgg_block\n",
      "RepConv.fuse_repvgg_block\n",
      "Model saved to yolov7_model.pkl\n"
     ]
    }
   ],
   "source": [
    "# # save_model.py\n",
    "# import torch\n",
    "# from models.experimental import attempt_load\n",
    "\n",
    "# # Load .pt weights (YOLOv7)\n",
    "# model = attempt_load('../runs/train/exp/weights/best.pt', map_location='cpu')\n",
    "# model.eval()\n",
    "\n",
    "# # Save to pickle (.pkl)\n",
    "# torch.save(model, './chest_Xray_weight.pkl')\n",
    "# print(\"Model saved to yolov7_model.pkl\")"
   ]
  },
  {
   "cell_type": "code",
   "execution_count": 4,
   "metadata": {},
   "outputs": [
    {
     "name": "stdout",
     "output_type": "stream",
     "text": [
      "3 confidence score:  0.8860486149787903 coordinate: [383, 478, 800, 645]\n",
      "0 confidence score:  0.604362964630127 coordinate: [508, 227, 621, 327]\n",
      "11 confidence score:  0.32202625274658203 coordinate: [569, 110, 747, 149]\n"
     ]
    },
    {
     "name": "stderr",
     "output_type": "stream",
     "text": [
      "/home/smaller225/anaconda3/envs/biomedparse/lib/python3.9/site-packages/torch/functional.py:539: UserWarning: torch.meshgrid: in an upcoming release, it will be required to pass the indexing argument. (Triggered internally at /pytorch/aten/src/ATen/native/TensorShape.cpp:3637.)\n",
      "  return _VF.meshgrid(tensors, **kwargs)  # type: ignore[attr-defined]\n"
     ]
    }
   ],
   "source": [
    "# inference_from_pkl.py\n",
    "import torch\n",
    "import cv2\n",
    "import numpy as np\n",
    "from utils.general import non_max_suppression, scale_coords\n",
    "from utils.datasets import letterbox\n",
    "\n",
    "# Load .pkl model\n",
    "model = torch.load('../../Piethon_test/CXR_Yolo/yolov7/chest_Xray_weight.pkl', map_location='cpu', weights_only=False)\n",
    "model.eval()\n",
    "\n",
    "# Load image\n",
    "img0 = cv2.imread('./0a2d01ecb9e01cf972c1e1d31ccacb98.png')  # 이미지 경로\n",
    "assert img0 is not None\n",
    "\n",
    "# Preprocess\n",
    "img = letterbox(img0, new_shape=640)[0]  # Resize\n",
    "img = img.transpose((2, 0, 1))[::-1]     # HWC to CHW, BGR to RGB\n",
    "img = np.ascontiguousarray(img)\n",
    "img = torch.from_numpy(img).float()\n",
    "img /= 255.0\n",
    "img = img.unsqueeze(0)  # Add batch dim\n",
    "\n",
    "# Inference\n",
    "with torch.no_grad():\n",
    "    pred, _ = model(img)\n",
    "\n",
    "# NMS\n",
    "pred = non_max_suppression(pred, conf_thres=0.25, iou_thres=0.45)[0]\n",
    "\n",
    "# 결과 출력\n",
    "if pred is not None and len(pred):\n",
    "    pred[:, :4] = scale_coords(img.shape[2:], pred[:, :4], img0.shape).round()\n",
    "    for *xyxy, conf, cls in pred:\n",
    "        print(int(cls), \"confidence score: \", float(conf.cpu()), \"coordinate:\", [int(b.cpu()) for b in xyxy])\n"
   ]
  },
  {
   "cell_type": "code",
   "execution_count": null,
   "metadata": {},
   "outputs": [],
   "source": []
  }
 ],
 "metadata": {
  "kernelspec": {
   "display_name": "biomedparse",
   "language": "python",
   "name": "python3"
  },
  "language_info": {
   "codemirror_mode": {
    "name": "ipython",
    "version": 3
   },
   "file_extension": ".py",
   "mimetype": "text/x-python",
   "name": "python",
   "nbconvert_exporter": "python",
   "pygments_lexer": "ipython3",
   "version": "3.9.19"
  },
  "orig_nbformat": 4
 },
 "nbformat": 4,
 "nbformat_minor": 2
}
